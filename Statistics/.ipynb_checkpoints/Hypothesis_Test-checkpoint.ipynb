{
 "cells": [
  {
   "cell_type": "markdown",
   "metadata": {},
   "source": [
    "### Statistical Code Library\n",
    "\n",
    "- Import Python Packages"
   ]
  },
  {
   "cell_type": "code",
   "execution_count": 1,
   "metadata": {
    "collapsed": true
   },
   "outputs": [],
   "source": [
    "import numpy as np\n",
    "import pandas as pd\n",
    "import random\n",
    "import matplotlib.pyplot as plt\n",
    "%matplotlib inline\n",
    "plt.style.use('ggplot')"
   ]
  },
  {
   "cell_type": "markdown",
   "metadata": {},
   "source": [
    "### Permutation Test"
   ]
  },
  {
   "cell_type": "code",
   "execution_count": 2,
   "metadata": {
    "collapsed": true
   },
   "outputs": [],
   "source": [
    "class Permutation_Test(object):\n",
    "    \n",
    "    \"\"\" Computing Permutation Test -- i.e. Exact Randomization Test\"\"\"\n",
    "    \n",
    "    def __init__(self,fname):\n",
    "        \n",
    "        self.data = pd.read_csv('data/{}.csv'.format(fname))\n",
    "        self.trials = 1000\n",
    "        \n",
    "        #Get Global and Sampled Means\n",
    "        self.global_mean,self.sample_means = self.get_permutations()\n",
    "    \n",
    "    def get_permutations(self):\n",
    "        \n",
    "        print('--- Permutation Test ---')\n",
    "\n",
    "        #Get Observed Mean\n",
    "        global_mean = self.data.groupby(['Treatment'])['Score'].mean().diff().iloc[1]\n",
    "\n",
    "        means = []\n",
    "        for i in range(0,self.trials):\n",
    "            means.append(self.data.apply(np.random.permutation).groupby(['Treatment'])['Score']\\\n",
    "                         .mean().diff().iloc[1])\n",
    "\n",
    "        #Get P-Value\n",
    "        m = pd.DataFrame(means,columns=['Diff_Means'])\n",
    "        count = sum(np.where((m['Diff_Means'] > global_mean) | (m['Diff_Means'] < -global_mean),1,0))\n",
    "\n",
    "        print('Probability of observing a distribution more extreme than {} is {}/{}!'\\\n",
    "              .format(round(global_mean,3),count,self.trials))\n",
    "\n",
    "        if count/self.trials < 0.05:\n",
    "            print(\"\"\"Strong evidence to suggest mu1 and mu1 are not drawn from the same distribution\\\n",
    "               Conclusion: Reject null hypothesis that mu1 == mu2\"\"\")\n",
    "        else:\n",
    "            print('Fail to reject the null hypothesis and conclude that there \\\n",
    "                 is a significant difference')\n",
    "            \n",
    "        return(global_mean,m)\n",
    "    \n",
    "    def histogram(self):\n",
    "        \n",
    "        \"Return Histogram of Permutations\"\n",
    "        \n",
    "        fig = plt.figure(figsize=(8,4))\n",
    "        ax = fig.add_subplot(111)\n",
    "        ax.vlines(x=self.global_mean,ymin=0,ymax=300,lw=2.0,color='b')\n",
    "        ax.vlines(x=-self.global_mean,ymin=0,ymax=300,lw=2.0,color='b')\n",
    "        self.sample_means.hist(ax=ax,alpha=0.70)\n",
    "        ax.set_ylabel('Count',fontsize=14)\n",
    "        ax.set_xlabel('Sampled Means',fontsize=14)\n",
    "        plt.title('Permutations Test',fontsize=18,y=1.02)\n",
    "        plt.show()"
   ]
  },
  {
   "cell_type": "code",
   "execution_count": 3,
   "metadata": {},
   "outputs": [
    {
     "name": "stdout",
     "output_type": "stream",
     "text": [
      "--- Permutation Test ---\n",
      "Probability of observing a distribution more extreme than 4.144 is 7/1000!\n",
      "Strong evidence to suggest mu1 and mu1 are not drawn from the same distribution               Conclusion: Reject null hypothesis that mu1 == mu2\n"
     ]
    },
    {
     "data": {
      "image/png": "[encoded data removed]",
      "text/plain": [
       "<matplotlib.figure.Figure at 0x10f491390>"
      ]
     },
     "metadata": {},
     "output_type": "display_data"
    }
   ],
   "source": [
    "if __name__ == '__main__':\n",
    "    file = 'case0101'\n",
    "    results = Permutation_Test(file)\n",
    "    results.histogram()"
   ]
  },
  {
   "cell_type": "markdown",
   "metadata": {},
   "source": [
    "### Central Limit Theorem"
   ]
  },
  {
   "cell_type": "code",
   "execution_count": 31,
   "metadata": {
    "collapsed": true
   },
   "outputs": [],
   "source": [
    "class central_limit_theorem(object):\n",
    "    \n",
    "    def __init__(self,data_size,sample_size,n_iter):\n",
    "    \n",
    "        #Synthetic Data\n",
    "        self.x = np.random.randint(0,100,data_size)\n",
    "        \n",
    "        #sample size\n",
    "        self.samp = sample_size\n",
    "        \n",
    "        #Number of times to resample\n",
    "        self.n_iter = n_iter\n",
    "    \n",
    "    def random_sample_means(self,sample_size):\n",
    "        \n",
    "        print('--- Central Limit Theorem ---')\n",
    "        \n",
    "        #Random Sample n\n",
    "        means = [np.random.choice(self.x,self.samp).mean() for i in range(0,self.n_iter)]\n",
    "        print('Number of subsampled means: {}'.format(len(means)))\n",
    "        plt.figure(figsize=(8,4))\n",
    "        plt.title('Central Limit Theorem')\n",
    "        plt.hist(means,color='b',alpha=0.6,bins=10)\n",
    "        plt.xlabel('Mean')\n",
    "        plt.ylabel('Count')"
   ]
  },
  {
   "cell_type": "code",
   "execution_count": 32,
   "metadata": {},
   "outputs": [
    {
     "name": "stdout",
     "output_type": "stream",
     "text": [
      "--- Central Limit Theorem ---\n",
      "Number of subsampled means: 200\n"
     ]
    },
    {
     "data": {
      "image/png": "[encoded data removed]",
      "text/plain": [
       "<matplotlib.figure.Figure at 0x110f16c88>"
      ]
     },
     "metadata": {},
     "output_type": "display_data"
    }
   ],
   "source": [
    "test = central_limit_theorem(1000,20,200)\n",
    "test.random_sample_means(200)"
   ]
  },
  {
   "cell_type": "markdown",
   "metadata": {},
   "source": [
    "### T-Test:\n",
    "\n",
    "\n",
    "- One Sample T-Statistic = $\\frac{\\bar{x}-\\mu}{\\frac{s}{\\sqrt{n}}}$\n",
    "\n",
    "\n",
    "- One Sample Condifence Interval = $\\mu \\pm  t_{(n-1,\\alpha)}\\frac{s}{\\sqrt{n}}$\n",
    "\n",
    "\n",
    "- Two Sample T-Statistic = $\\frac{\\bar{x_{1}}-\\bar{x_{2}}}{\\sqrt{\\frac{\\sigma_{1}^{2}}{n_{1}} + \\frac{\\sigma_{2}^{2}}{n_{2}}}}$\n",
    "\n",
    "\n",
    "- Two Sample Standard Error = ${s_{p}}\\sqrt{\\frac{1}{n_{1}} + \\frac{1}{n_{2}}}$\n",
    "\n",
    "\n",
    "- Pooled Estimate of Standard Deviation: $s_{p} = \\sqrt{\\frac{(n_{1}-1)s_{1}^{2} + (n_{1}-1)s_{1}^{2}}{(n_{1} + n_{2} - 2)}}$ ; where 's' equals sample standard deviation\n",
    "\n",
    "\n",
    "- Two Sample T-Test Confidence Interval: $(\\bar{Y_{2}} - \\bar{Y_{1})} \\pm t_{df,(1-\\frac{\\alpha}{2}})SE$\n",
    "\n",
    "**Assumptions:**\n",
    "\n",
    "- Samples are drawn from a Gaussian Distribution\n",
    "- If a two-sample test, both populations are assumed to have the same standard deviation (i.e. Pooled)\n",
    "- Obervations in the sample are independent of one another\n",
    "\n",
    "**Rules of Thumb in Evaluating Assumptions:**\n",
    "\n",
    "- If sample sizes are the same and sufficently large, the t-tools are valid since they are robust to the violation of normality.\n",
    "- If the two populations have the same standard deviation then the t-tests are valid given sufficient sample sizes.\n",
    "- IF the standard deviations are different and the sample sizes are different, then the t-tools are not valid and another procedure should be used.\n",
    "\n",
    "**Transformations**\n",
    "\n",
    "- If assumptions are not met, look at transforming the data such as taking the logarithmic transformation. \n",
    "- Note that for Randomized experiments, the interpretation is as follows:\n",
    "- \"It is estimated that the median for population X is: $$exp(mean(log(x)) - means(log(y))$$."
   ]
  },
  {
   "cell_type": "markdown",
   "metadata": {},
   "source": [
    "### One Sample T-Test"
   ]
  },
  {
   "cell_type": "code",
   "execution_count": 2,
   "metadata": {
    "collapsed": true
   },
   "outputs": [],
   "source": [
    "from scipy.stats import ttest_1samp\n",
    "class One_Sample_TTest(object):\n",
    "    \n",
    "    #Set Static Elements:\n",
    "    None\n",
    "    \n",
    "    def __init__(self,input,mu):\n",
    "        \n",
    "        #Set Object Elements\n",
    "        self.data = input\n",
    "        self.test_mean = mu\n",
    "        self.significance = 0.05\n",
    "        \n",
    "    def test(self):\n",
    "        \n",
    "        print('--- Two Sample TTest ---')\n",
    "        ttest = ttest_1samp(self.data,self.test_mean)\n",
    "        \n",
    "        print('Test Statistic: {0:.4f}'.format(ttest[0]))\n",
    "        print('P-Value: {0:.4f}'.format(ttest[1]))\n",
    "        print('Level of Significance: {}'.format(self.significance))\n",
    "        \n",
    "        print('\\n--- Conclusion ---')\n",
    "        if ttest[1] < self.significance:\n",
    "            print('Reject Null Hypothesis')\n",
    "        else:\n",
    "            print('Fail to Reject Null Hypothesis')      "
   ]
  },
  {
   "cell_type": "code",
   "execution_count": 34,
   "metadata": {},
   "outputs": [
    {
     "name": "stdout",
     "output_type": "stream",
     "text": [
      "--- Two Sample TTest ---\n",
      "Test Statistic: -1.2972\n",
      "P-Value: 0.2155\n",
      "Level of Significance: 0.05\n",
      "\n",
      "--- Conclusion ---\n",
      "Fail to Reject Null Hypothesis\n"
     ]
    }
   ],
   "source": [
    "if __name__ == '__main__':\n",
    "    \n",
    "    data = [1.7, 1.6, 1.5, 2.0, 2.3, 1.6, 1.6, 1.8, 1.5, 1.7, 2.2, 1.4, 1.6, 1.6, 1.6]\n",
    "    one_samp = One_Sample_TTest(data,1.8)\n",
    "    one_samp.test()"
   ]
  },
  {
   "cell_type": "markdown",
   "metadata": {},
   "source": [
    "### Two-Sample T-Test"
   ]
  },
  {
   "cell_type": "code",
   "execution_count": 125,
   "metadata": {
    "collapsed": true
   },
   "outputs": [],
   "source": [
    "from scipy.stats import ttest_ind\n",
    "from sklearn import datasets\n",
    "from scipy.stats import pearsonr\n",
    "import scipy.stats as stats\n",
    "import seaborn as sns\n",
    "\n",
    "class Two_Sample_TTest(object):\n",
    "    \n",
    "    def __init__(self,data,A,B):\n",
    "        \n",
    "        #Get Populations\n",
    "        self.popA = data.ix[:,A]\n",
    "        self.popB = data.ix[:,B]\n",
    "        \n",
    "        #Set Level of Significance\n",
    "        self.significance = 0.05\n",
    "        \n",
    "    def get_corr_heatmap(self,data):\n",
    "        \n",
    "        \"\"\" Correlation Matrix \"\"\"\n",
    "        \n",
    "        corr = data.corr()\n",
    "        fig, ax = plt.subplots(figsize=(8,6))\n",
    "        plt.imshow(corr,interpolation='nearest',cmap='jet',aspect='auto',alpha=.80)\n",
    "        plt.xticks(range(len(corr.columns)), corr.columns)\n",
    "        for tick in ax.get_xticklabels():\n",
    "            tick.set_rotation(90)\n",
    "        plt.yticks(range(len(corr.columns)), corr.columns)\n",
    "        plt.grid(False)\n",
    "        plt.title('Correlation Matrix',fontsize=20)\n",
    "      \n",
    "    def get_histogram(self):\n",
    "        \n",
    "        \"\"\" Histogram for Each Population\"\"\"\n",
    "        fig, ax = plt.subplots(nrows=2, ncols=1)\n",
    "        fig.subplots_adjust(wspace=.4, hspace=.4)\n",
    "        \n",
    "        self.popA.plot(kind='hist',color='g',ax=ax[0])\n",
    "        self.popB.plot(kind='hist',color='b',ax=ax[1])\n",
    "        \n",
    "        ax[0].set_title('Sample Population A')\n",
    "        ax[1].set_title('Sample Population B')\n",
    "\n",
    "    def get_boxplots(self):\n",
    "        \n",
    "        \"\"\" Boxplot for Each Population\"\"\"\n",
    "        fig, ax = plt.subplots(nrows=1, ncols=2,figsize=(8,4))\n",
    "        fig.subplots_adjust(wspace=.4, hspace=.4)\n",
    "        ax[0].boxplot(self.popA)\n",
    "        ax[1].boxplot(self.popB)\n",
    "\n",
    "        ax[0].set_title('Sample Population A')\n",
    "        ax[1].set_title('Sample Population B')\n",
    "\n",
    "    def f_test_variance(self):\n",
    "        \n",
    "        \"\"\" Perform One-Way Anova F-Test to Check Equality of Variance \"\"\"\n",
    "        \n",
    "        #Note: F-Test of Variance is NOT robust to non-gaussian distributed samples -- examine visualizations\n",
    "        \n",
    "        print('-- F-Test: Equality of Variance --- ')\n",
    "        stat,pval = stats.f_oneway(self.popA,self.popB)\n",
    "        print('F-Statistic: {}'.format(stat))\n",
    "        print('P-Value: {}'.format(pval))\n",
    "        \n",
    "        if pval < 0.05:\n",
    "            print('Reject Null Hypothesis')\n",
    "        else:\n",
    "            print('Fail to Reject Null Hypothesis')        \n",
    "        \n",
    "    def ttest_pool(self):\n",
    "        \n",
    "        \"\"\"\n",
    "        This is a two-sided test for the null hypothesis that 2 independent samples\n",
    "        have identical average (expected) values. This test assumes that the\n",
    "        populations have identical variances by default.\n",
    "        \"\"\"\n",
    "        print('--- Two Sample TTest ---')\n",
    "        \n",
    "        #get_histogram()\n",
    "        print('Population A Sample Size: {}'.format(self.popA.shape[0]))\n",
    "        print('Population B Sample Size: {}'.format(self.popB.shape[0]))\n",
    "        \n",
    "        #Perform Two Sample T-Test (i.e. Pooled)\n",
    "        try:\n",
    "            ttest = ttest_ind(self.popA,self.popB,equal_var=True)\n",
    "            print('Test Statistic: {}'.format(ttest[0]))\n",
    "            print('P-Value: {}'.format(ttest[1]))\n",
    "            self.confidence_interval(ttest[0])\n",
    "            \n",
    "        except Exception as e:\n",
    "            print(str(e))\n",
    "        \n",
    "        print('\\n--- Conclusion ---')\n",
    "        if ttest[1] < self.significance:\n",
    "            print('Reject Null Hypothesis -- strong evidence against population means being equal')\n",
    "        else:\n",
    "            print('Fail to Reject Null Hypothesis')\n",
    "            \n",
    "        print(ttest)\n",
    "        \n",
    "    def ttest_pool_log_transform(self):\n",
    "        \n",
    "        \"\"\" Log Transformation if Assumptions of Gaussian Distributed and Variance Equality not Met\"\"\"\n",
    "        \n",
    "                #Perform Two Sample T-Test (i.e. Pooled)\n",
    "        try:\n",
    "            print('Log Transformation of Samples -- Inference to Medians')\n",
    "            ttest = ttest_ind(np.log(self.popA),np.log(self.popB),equal_var=True)\n",
    "            print('Test Statistic: {}'.format(ttest[0]))\n",
    "            print('P-Value: {}'.format(ttest[1]))\n",
    "            \n",
    "            \n",
    "        except Exception as e:\n",
    "            print(str(e))\n",
    "        \n",
    "        print('\\n--- Conclusion ---')\n",
    "        if ttest[1] < self.significance:\n",
    "            print('Reject Null Hypothesis -- strong evidence against population medians being equal')\n",
    "        else:\n",
    "            print('Fail to Reject Null Hypothesis')\n",
    "            \n",
    "        print(ttest)\n",
    "        \n",
    "    \n",
    "    def confidence_interval(self,tstat):\n",
    "        \n",
    "        \"\"\" Confidence Interval Assuming Equal Variance (i.e. Pooled)\"\"\"\n",
    "        \n",
    "        #Difference in observed means:\n",
    "        diff = self.popA.mean() - self.popB.mean()\n",
    "        \n",
    "        n1 = len(self.popA)\n",
    "        n2 = len(self.popB)\n",
    "        \n",
    "        #Pooled Std.Dev\n",
    "        sp = np.sqrt(((n1-1)*np.std(self.popA)**2 + (n2-1)*np.std(self.popA)**2) / (n1 + n2 -2))\n",
    "        \n",
    "        #Standard Error\n",
    "        se = sp * np.sqrt(1/n1+ 1/n2)\n",
    "\n",
    "        #Confidence Interval\n",
    "        CI_lower,CI_upper = diff - abs(tstat)*se, diff + abs(tstat)*se\n",
    "\n",
    "        print('{0:.0f}% Confidence Interval = [{1:.4f} to {2:.4f}]'.format((1-self.significance)*100,CI_lower,CI_upper))"
   ]
  },
  {
   "cell_type": "code",
   "execution_count": 126,
   "metadata": {
    "collapsed": true,
    "scrolled": false
   },
   "outputs": [],
   "source": [
    "data= pd.DataFrame(datasets.load_iris().data,columns=[datasets.load_iris().feature_names])    \n",
    "t = Two_Sample_TTest(data,1,2)"
   ]
  },
  {
   "cell_type": "markdown",
   "metadata": {},
   "source": [
    "#### Check Assumptions:"
   ]
  },
  {
   "cell_type": "code",
   "execution_count": 127,
   "metadata": {},
   "outputs": [
    {
     "data": {
      "image/png": "[encoded data removed]",
      "text/plain": [
       "<matplotlib.figure.Figure at 0x112934ac8>"
      ]
     },
     "metadata": {},
     "output_type": "display_data"
    }
   ],
   "source": [
    "t.get_boxplots()"
   ]
  },
  {
   "cell_type": "code",
   "execution_count": 128,
   "metadata": {},
   "outputs": [
    {
     "data": {
      "image/png": "[encoded data removed]",
      "text/plain": [
       "<matplotlib.figure.Figure at 0x112dea048>"
      ]
     },
     "metadata": {},
     "output_type": "display_data"
    }
   ],
   "source": [
    "t.get_histogram()"
   ]
  },
  {
   "cell_type": "code",
   "execution_count": 129,
   "metadata": {},
   "outputs": [
    {
     "name": "stdout",
     "output_type": "stream",
     "text": [
      "--- Two Sample TTest ---\n",
      "Population A Sample Size: 150\n",
      "Population B Sample Size: 150\n",
      "Test Statistic: -4.750010050119279\n",
      "P-Value: 3.1663570491589345e-06\n",
      "95% Confidence Interval = [-0.9417 to -0.4676]\n",
      "\n",
      "--- Conclusion ---\n",
      "Reject Null Hypothesis -- strong evidence against population means being equal\n",
      "Ttest_indResult(statistic=-4.750010050119279, pvalue=3.1663570491589345e-06)\n"
     ]
    }
   ],
   "source": [
    "t.ttest_pool()"
   ]
  }
 ],
 "metadata": {
  "anaconda-cloud": {},
  "kernelspec": {
   "display_name": "Python [conda root]",
   "language": "python",
   "name": "conda-root-py"
  },
  "language_info": {
   "codemirror_mode": {
    "name": "ipython",
    "version": 3
   },
   "file_extension": ".py",
   "mimetype": "text/x-python",
   "name": "python",
   "nbconvert_exporter": "python",
   "pygments_lexer": "ipython3",
   "version": "3.5.2"
  }
 },
 "nbformat": 4,
 "nbformat_minor": 1
}
