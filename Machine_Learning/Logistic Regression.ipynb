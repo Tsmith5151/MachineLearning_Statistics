{
 "cells": [
  {
   "cell_type": "markdown",
   "metadata": {},
   "source": [
    "## Logistic Regression "
   ]
  },
  {
   "cell_type": "markdown",
   "metadata": {},
   "source": [
    "Update equation for Binary Logistic Regression:\n",
    "\n",
    "$$ \\underbrace{w_j}_{\\text{new value}} \\leftarrow \\underbrace{w_j}_{\\text{old value}} + \\eta \\underbrace{\\sum_{i=1}^M (y^{(i)}-g(x^{(i)}))x^{(i)}_j}_{\\text{gradient}} $$\n",
    "\n",
    "**Where:**\n",
    "\n",
    "- η: learning rate\n",
    "- g(⋅): sigmoid function\n",
    "- $y^{(i)}$: instance of the target\n",
    "- $ŷ^{(i)}$: an instance of the prediction (for the current value of w)\n",
    "- $x_{j}^{(i)}$ is the $i^{th}$ instance of the input with the $j^{th}$ feature (that is, the feature in row i and column j)\n",
    "\n",
    "\n",
    "Note: The logistic regression equation maps the input to an output ranging between 0 and 1. The sigmoid activation directly regresses the logistic function (i.e. sigmoid) for the probability $y=1$. Thus:\n",
    "\n",
    "$$ p(y^{(i)}=1\\text{ | }x^{(i)},w)=\\frac{1}{1+\\exp{(w^T x^{(i)}})}$$\n",
    "\n",
    "The dot product of $w^T x^{(i)}$ results in a scalar. Multiplying $w$ and $x^{(i)}$ together returns a single value. Next, place the single value through the sigmoid activation function to compute the probability that $y=1$. \n",
    "\n",
    "$$ \\hat{y}^{(i)} = 1$$\n",
    "$$\\text{if:    } p(y^{(i)}=1\\text{ | }x^{(i)},w) > 0.5  $$ \n",
    "and \n",
    "$$ \\hat{y}^{(i)} = 0  \\text{      otherwise} $$"
   ]
  },
  {
   "cell_type": "code",
   "execution_count": 278,
   "metadata": {
    "collapsed": true
   },
   "outputs": [],
   "source": [
    "import pandas as pd\n",
    "import numpy as np\n",
    "from sklearn.preprocessing import StandardScaler\n",
    "import matplotlib.pyplot as plt\n",
    "%matplotlib inline"
   ]
  },
  {
   "cell_type": "code",
   "execution_count": 363,
   "metadata": {},
   "outputs": [],
   "source": [
    "class Logistic_Regression(object):\n",
    "    \n",
    "    \"\"\"Logistic Regression\n",
    "    \n",
    "    \n",
    "    Keyword arguments:\n",
    "    eta -- Learning rate (between 0.0 and 1.0)\n",
    "    n_iter -- Number of passes over the training set\n",
    "    \"\"\"\n",
    "    \n",
    "    def __init__(self,lr,iterations=20):\n",
    "        self.learning_rate = lr\n",
    "        self.iters = iterations\n",
    "    \n",
    "    def sigmoid(self,X):\n",
    "        \n",
    "        \"\"\" Logistic Sigmoid Activation Function \"\"\"\n",
    "        \n",
    "        z = self.net_input(X)\n",
    "        sigmoid = 1 / (1+np.exp(-z))\n",
    "        return(sigmoid)\n",
    "    \n",
    "    def net_input(self,X):\n",
    "        \n",
    "        \"\"\" Z = W^T dot X\"\"\"\n",
    "        \n",
    "        z = np.dot(X,self.weights[1:] + self.weights[0])\n",
    "        return(z)\n",
    "    \n",
    "    def fit(self,X,y):\n",
    "        \n",
    "        #Initialize Weights\n",
    "        self.weights = np.zeros(1+X.shape[1])\n",
    "        \n",
    "        #Store Gradients\n",
    "        self.cost = []\n",
    "     \n",
    "        for i in range(self.iters):\n",
    "            net_input = self.net_input(X)\n",
    "            out = self.sigmoid(X)\n",
    "            error = (y - yhat)\n",
    "\n",
    "            self.weights[1:] += self.learning_rate * X.T.dot(error)\n",
    "            self.weights[0] += self.learning_rate * error.sum()\n",
    "            \n",
    "            cost = -y.dot(np.log(out)) - ((1 - y).dot(np.log(1 - out)))\n",
    "            self.cost.append(cost)\n",
    "        return self\n",
    "            \n",
    "    def predict(self,X):\n",
    "        pred = np.where(self.sigmoid(X) >= 0.50,1,0)\n",
    "        return(pred)\n",
    "    \n",
    "    def cost_plot(self):\n",
    "        plt.figure(figsize=(8,4))\n",
    "        plt.plot(range(1, len(self.cost) + 1), self.cost, marker='o',lw=.5)\n",
    "        plt.xlabel('Epochs',fontsize=14)\n",
    "        plt.ylabel('Logistic Cost',fontsize=14)\n",
    "        plt.title('Cost vs Epochs',fontsize=16,y=1.02)"
   ]
  },
  {
   "cell_type": "code",
   "execution_count": 364,
   "metadata": {
    "collapsed": true
   },
   "outputs": [],
   "source": [
    "def get_data():\n",
    "    \n",
    "    \"\"\" Load Data -- Iris Dataset\"\"\"\n",
    "    \n",
    "    X = pd.DataFrame(datasets.load_iris().data,columns=[datasets.load_iris().feature_names])\n",
    "    y = pd.DataFrame(datasets.load_iris().target,columns=['Species'])\n",
    "\n",
    "    concat = pd.concat([X,y],axis=1)\n",
    "    concat = concat[concat['Species'] <= 1].reset_index(drop=True)\n",
    "    X = concat.ix[:,:-1]\n",
    "    y = concat.ix[:,-1]\n",
    "\n",
    "    #Standardize Date\n",
    "    for c in X.columns:\n",
    "        X[c]  = StandardScaler().fit_transform(X[c].reshape(-1,1))\n",
    "    return(X,y)"
   ]
  },
  {
   "cell_type": "code",
   "execution_count": 365,
   "metadata": {},
   "outputs": [
    {
     "name": "stdout",
     "output_type": "stream",
     "text": [
      "Accuracy Score: 1.0\n"
     ]
    },
    {
     "data": {
      "image/png": "[encoded data removed]",
      "text/plain": [
       "<matplotlib.figure.Figure at 0x11303b240>"
      ]
     },
     "metadata": {},
     "output_type": "display_data"
    }
   ],
   "source": [
    "if __name__ == '__main__':\n",
    "    \n",
    "    #Get Data\n",
    "    X,y = get_data()\n",
    "    \n",
    "    #Instantiate Logistic Regression Classifier\n",
    "    clf = Logistic_Regression(lr=0.10)\n",
    "    \n",
    "    #Fit Model w/ Training Data\n",
    "    clf.fit(X, y)\n",
    "    \n",
    "    #Make Predictions\n",
    "    yhat = clf.predict(X)\n",
    "    \n",
    "    #Accuracy Score\n",
    "    print('Accuracy Score: {}'.format(accuracy_score(yhat,y)))\n",
    "    \n",
    "    clf.cost_plot()"
   ]
  },
  {
   "cell_type": "code",
   "execution_count": null,
   "metadata": {
    "collapsed": true
   },
   "outputs": [],
   "source": []
  }
 ],
 "metadata": {
  "anaconda-cloud": {},
  "kernelspec": {
   "display_name": "Python [default]",
   "language": "python",
   "name": "python3"
  },
  "language_info": {
   "codemirror_mode": {
    "name": "ipython",
    "version": 3
   },
   "file_extension": ".py",
   "mimetype": "text/x-python",
   "name": "python",
   "nbconvert_exporter": "python",
   "pygments_lexer": "ipython3",
   "version": "3.5.2"
  }
 },
 "nbformat": 4,
 "nbformat_minor": 1
}
