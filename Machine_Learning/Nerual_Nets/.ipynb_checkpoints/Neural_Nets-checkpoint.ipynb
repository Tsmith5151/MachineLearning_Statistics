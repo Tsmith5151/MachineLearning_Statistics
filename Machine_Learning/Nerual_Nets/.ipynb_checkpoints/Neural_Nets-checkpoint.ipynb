{
 "cells": [
  {
   "cell_type": "markdown",
   "metadata": {},
   "source": [
    "### Neural Networks Notes"
   ]
  },
  {
   "cell_type": "code",
   "execution_count": 14,
   "metadata": {
    "collapsed": true
   },
   "outputs": [],
   "source": [
    "from IPython.display import Image\n",
    "import os\n",
    "import numpy as np\n",
    "import matplotlib.pyplot as plt\n",
    "%matplotlib inline"
   ]
  },
  {
   "cell_type": "markdown",
   "metadata": {},
   "source": [
    "- The structure of the above nerual Network has 2 inputs and 1 output. The output will be denoted as yhat (i.e. the estimate, not ground truth). Any layer between our input and output layer is called a hidden layer. This neural network has one hidden layer with 3 hidden units. In the above structure, the circles represent neurons and lines represent synapses. \n",
    "\n",
    "**Synapses** \n",
    "\n",
    "- Take a value from their input, multiply it by a specific weight, and output the results.\n",
    "\n",
    "**Neurons** \n",
    "\n",
    "- Adds together the outputs of all their synapses, and apply an activation function.\n",
    "\n",
    "- Certain activation functions allow neural nets to model complex non-linear patterns."
   ]
  },
  {
   "cell_type": "markdown",
   "metadata": {},
   "source": [
    "The input data will be a 3x2 matrix, and the output will be a 3x1 matrix. "
   ]
  },
  {
   "cell_type": "code",
   "execution_count": 89,
   "metadata": {},
   "outputs": [
    {
     "data": {
      "text/html": [
       "<div>\n",
       "<table border=\"1\" class=\"dataframe\">\n",
       "  <thead>\n",
       "    <tr style=\"text-align: right;\">\n",
       "      <th></th>\n",
       "      <th>Hours Study</th>\n",
       "      <th>Hours Sleep</th>\n",
       "    </tr>\n",
       "  </thead>\n",
       "  <tbody>\n",
       "    <tr>\n",
       "      <th>0</th>\n",
       "      <td>3</td>\n",
       "      <td>5</td>\n",
       "    </tr>\n",
       "    <tr>\n",
       "      <th>1</th>\n",
       "      <td>5</td>\n",
       "      <td>1</td>\n",
       "    </tr>\n",
       "    <tr>\n",
       "      <th>2</th>\n",
       "      <td>10</td>\n",
       "      <td>2</td>\n",
       "    </tr>\n",
       "  </tbody>\n",
       "</table>\n",
       "</div>"
      ],
      "text/plain": [
       "   Hours Study  Hours Sleep\n",
       "0            3            5\n",
       "1            5            1\n",
       "2           10            2"
      ]
     },
     "execution_count": 89,
     "metadata": {},
     "output_type": "execute_result"
    }
   ],
   "source": [
    "X = np.array([[3,5],[5,1],[10,2]])\n",
    "pd.DataFrame(X,columns=['Hours Study','Hours Sleep'])"
   ]
  },
  {
   "cell_type": "code",
   "execution_count": 100,
   "metadata": {
    "collapsed": true
   },
   "outputs": [],
   "source": [
    "#Output\n",
    "y = np.array([0.35,1.35,2.35])"
   ]
  },
  {
   "cell_type": "markdown",
   "metadata": {},
   "source": [
    "Each input value, or element in matrix X, needs to be multiplied by a corresponding weight and then added together with all the other results for each neuron. \n",
    "\n",
    "Here we have the input matrix, 3x2 multiplied by a 2x3 matrix of randomly initialized weights. This produces a 3x3 matrx,one row for each example, and one column for each hidden unit. $z^{(2)}$ refers to the second layer.\n",
    "\n",
    "Equation 1: $z^{(2)} = XW^{(1)}$\n",
    "\n",
    "Note: each entry in z is a sum of weighted inputs to each hidden neuron. Z is of size 3 by 3, one row for each example, and one column for each hidden unit.\n",
    "\n",
    "\n",
    "-Now that we have the activities for our second layer, z two, we need to apply the activation function. \n",
    "\n",
    "We'll independently apply the function to each entry in matrix z using a python method for this called sigmoid, because we’re using a sigmoid as our activation function. This is still a 3x3 matrix"
   ]
  },
  {
   "cell_type": "code",
   "execution_count": 88,
   "metadata": {},
   "outputs": [
    {
     "data": {
      "image/png": "[encoded data removed]",
      "text/plain": [
       "<matplotlib.figure.Figure at 0x112f49be0>"
      ]
     },
     "metadata": {},
     "output_type": "display_data"
    }
   ],
   "source": [
    "def test_sigmoid():\n",
    "    \"\"\" Example of Sigmoid Function \"\"\"\n",
    "    x = np.arange(-6,6,0.01)\n",
    "    input  = sigmoid(x)\n",
    "    plt.plot(x,input)\n",
    "    plt.title('Sigmoid Activation Function',fontsize=12,y=1.02)\n",
    "test_sigmoid()"
   ]
  },
  {
   "cell_type": "markdown",
   "metadata": {},
   "source": [
    "The second formula for forward propagation, is below. Using f to denote our activation function, we can write that $a^{(2)}$, our second layer activity, is equal to f of $z^{(2)}$. This is labeled $a^{(2)}$ in the Nerual Network code in the following block. \n",
    "\n",
    "Equation 2:   $a^{(2)} = f{(z^{(2)})}$\n",
    "\n",
    "To finish forward propagation we need to propagate $a^{(2)}$ all the way to the output, yhat. \n",
    "\n",
    "All we have to do now is multiply $a^{(2)}$ by our second layer weights W2 and apply one more activation funcion. \n",
    "\n",
    "W2 will be of size 3x1, one weight for each synapse. \n",
    "\n",
    "Multiplying $a^{(2)}$, a 3x3, by W2, we get a 3x1 matrix the activity for the third layer. $z^{(3)}$ has three activity values, one for each example. \n",
    "\n",
    "Finally, we'll apply our activation function to $z^{(2)}$ yielding the estimate of your test score, yHat.\n",
    "\n",
    "Equation 3:  $yhat = f{(z^{(3)})}$"
   ]
  },
  {
   "cell_type": "markdown",
   "metadata": {},
   "source": [
    "#### Implementing Forward Propagation"
   ]
  },
  {
   "cell_type": "code",
   "execution_count": 96,
   "metadata": {},
   "outputs": [
    {
     "data": {
      "text/html": [
       "<div>\n",
       "<table border=\"1\" class=\"dataframe\">\n",
       "  <thead>\n",
       "    <tr style=\"text-align: right;\">\n",
       "      <th></th>\n",
       "      <th>Test Score</th>\n",
       "    </tr>\n",
       "  </thead>\n",
       "  <tbody>\n",
       "    <tr>\n",
       "      <th>0</th>\n",
       "      <td>0.613204</td>\n",
       "    </tr>\n",
       "    <tr>\n",
       "      <th>1</th>\n",
       "      <td>0.500052</td>\n",
       "    </tr>\n",
       "    <tr>\n",
       "      <th>2</th>\n",
       "      <td>0.500000</td>\n",
       "    </tr>\n",
       "  </tbody>\n",
       "</table>\n",
       "</div>"
      ],
      "text/plain": [
       "   Test Score\n",
       "0    0.613204\n",
       "1    0.500052\n",
       "2    0.500000"
      ]
     },
     "execution_count": 96,
     "metadata": {},
     "output_type": "execute_result"
    }
   ],
   "source": [
    "N = Neural_Network()\n",
    "yhat = N.forward(X)\n",
    "pd.DataFrame(yHat,columns=['Test Score'])"
   ]
  },
  {
   "cell_type": "markdown",
   "metadata": {},
   "source": [
    "As we can tell below, the output has a relatively large errorand the model doesn't predict well. This is where the cost function comes into play. The idea be to find the combination of weights that minimize the error. \n",
    "\n",
    "Equation 4:  $Cost = \\frac{1}{2}*\\sum_(y-yhat)^2$\n",
    "\n",
    "We have a collection of 9, W1 which is a 2x3 matrix, and W2, a 3x1 matrix, and we're saying that there is some combination of w's that will make our cost, J, as small as possible. Keep in mind the idea behind the curse of dimensionality. If we were trying to minimize the cost for one of the 1 Weights and tried 1000 different values, it wouldn't take that long. Let's next consider 2 weights, to maintain the same precision we now need to check 1000 times 1000, or one million values. To do all 9 weights, well, that will be virutually impossible."
   ]
  },
  {
   "cell_type": "markdown",
   "metadata": {},
   "source": [
    "### Gradient Descent:\n",
    "\n",
    "We have 5 equations, but we can really think of them as one big equation.\n",
    "\n",
    "\n",
    "$Cost = \\frac{1}{2}*\\sum_(y-f(f(XW^{(1)})W^{(2)})^2$\n",
    "\n",
    "\n",
    "We want to know \"which way is downhill\", that is, what is the rate of change of J with respect to W, also known as the derivative. And in this case, since we’re just considering one weight at a time, the partial derivative -- $\\frac{dJ}{dW}$. \n",
    "\n",
    "\n",
    "\n",
    "We can derive an expression for $\\frac{dJ}{dW}$, that will give us the rate of change of J with respect to W, for any value of W! If $\\frac{dJ}{dW}$is positive, then the cost function is going uphill. If $\\frac{dJ}{dW}$ is negative the cost function is going downhill.\n",
    "\n",
    "\n",
    "To speed things up. Since we know in which direction the cost decreases, we can save all that time we would have spent searching in the wrong direction. We can save even more computational time by iteratively taking steps downhill and stopping when the cost stops getting smaller.\n",
    "\n",
    "\n",
    "This method is known as **gradient descent**, and although it may not seem so impressive in one dimension, it is capable of incredible speedups in higher dimensions. \n",
    "\n",
    "What if our cost function doesn't always go in the same direction? What if it goes up, then back down? The mathematical name for this is non-convex, and it could really throw off our gradient descent algorithm by getting it stuck in a local minima instead of our ideal global minima. One of the reasons we chose our cost function to be the sum of squared errors was to exploit the convex nature of quadratic equations.\n",
    "\n",
    "We know that the graph of y equals x squared is a nice convex parabola and it turns out that higher dimensional versions are too!\n",
    "\n",
    "If we use our examples one at a time instead of all at once, sometimes it won't matter if our cost function is convex, we will still find a good solution. This is called stochastic gradient descent."
   ]
  },
  {
   "cell_type": "markdown",
   "metadata": {},
   "source": [
    "Now, we can take the weights W1 and W2 adn separate our $\\frac{dJ}{dW}$ computation in the same way, by computing $\\frac{dJ}{dW^{(2)}}$ and $\\frac{dJ}{dW^{(2)}}$ independently. \n",
    "\n",
    "\n",
    "Thus looking at $\\frac{dJ}{dW^{(2)}}$ first:\n",
    "\n",
    "$\\frac{dJ}{dW^{(2)}} = \\frac{1}{2}*\\sum(y-yhat)^{2}*{\\frac{d}{dW^{(2)}}}$\n",
    "\n",
    "We can move the $\\sum$ outside and just worry about the derivative of the inside expression first.\n",
    "\n",
    "$\\frac{dJ}{dW^{(2)}} = \\sum\\frac{1}{2}*(y-yhat)^{2}*{\\frac{d}{dW^{(2)}}}$\n",
    "\n",
    "Now we apply the chain rule, where we take the derivative of the outside function and then multiply it by the derivative of the inside function. Note: y is just our test scores, which won’t change, so the derivative of y, a constant, with respect to $dW^{(2)}$ is zero. \n",
    "\n",
    "$\\frac{dJ}{dW^{(2)}} = (y-yhat)^{2}*{\\frac{d}{dW^{(2)}}}$\n",
    "\n",
    "The question now is how do we take derivative of yhat with respect to $dW^{(2)}$. Recall, that yhat is our activation function of z3, so we can break down as $\\frac{dyhat}{dz^{(3)}}$ and  $\\frac{dz}{dW^{(2)}}$\n",
    "\n",
    "\n",
    "To find the rate of change of yHat with respect to z3, we need to differentiate our sigmoid activation function with respect to z.\n",
    "\n",
    "f(z) = $\\frac{1}{(1+e^{-z})^2}$\n",
    "\n",
    "f'(z) = $\\frac{e^{-z}}{(1+e^{-z})^2}$\n",
    "\n",
    "\n",
    "Next, we can replace $\\frac{dyhat}{dz^{(3)}}$ with $f'(z^{(3)})$ and our equation now becomes:\n",
    "\n",
    "$\\frac{dJ}{dW^{(2)}} = (y-yhat)*f`(z^{(3)})*{\\frac{d}{dW^{(2)}}}$\n",
    "\n",
    "\n",
    "Keep in mind that for each synapse, dz/dW(2), this is just the activation, a on that synapse:\n",
    "\n",
    "$z^{(3)} = a^{(2)}*W^{(2)}\n",
    "\n",
    "Another way to think about what the calculus is doing here is that it is “backpropagating” the error to each weight, by multiplying by the activity on each synapses, the weights that contribute more to the error will have larger activations, and yield larger dJ/dW2 values, and those weights will be changed more when we perform gradient descent.\n",
    "\n",
    "\n",
    "Note: $f'(z^{(3)}$ is of the same size, 3x1 matrix. This 3x1 matrix is referred to as the backpropagating error, delta 3.\n",
    "\n",
    "Next,$\\frac{dz^{(3)}}/{dW^{(2)}}$ is equal to the activity of each synapse. Each value in delta 3 needs to be multiplied by each activity. We can achieve this by transposing a2 and matrix multiplying by delta3.\n",
    "\n",
    "\n"
   ]
  },
  {
   "cell_type": "code",
   "execution_count": 128,
   "metadata": {
    "collapsed": true
   },
   "outputs": [],
   "source": [
    "class Neural_Network(object):\n",
    "    def __init__(self):\n",
    "        self.inputLayerSize = 2\n",
    "        self.outputLayerSize = 1\n",
    "        self.hiddenLayerSize = 3\n",
    "        \n",
    "        #Initialize Random Weights\n",
    "        self.W1 = np.random.randn(self.inputLayerSize, \\\n",
    "                                   self.hiddenLayerSize)\n",
    "        self.W2 = np.random.randn(self.hiddenLayerSize,\\\n",
    "                                   self.outputLayerSize)\n",
    "    \n",
    "    def forward(self,X):\n",
    "        #W1 = 2x3 matrix, X = 3x2 matrix\n",
    "        self.z2 = np.dot(X,self.W1)\n",
    "        #a2 = 3x3 matrix\n",
    "        self.a2 =  self.sigmoid(self.z2)\n",
    "        #a2 = 3x3 matrix, W2 = 3x1 matrix\n",
    "        self.z3 = np.dot(self.a2,self.W2)\n",
    "        #3x1 matrix\n",
    "        yhat = self.sigmoid(self.z3)\n",
    "        return(yhat)\n",
    "   \n",
    "    def sigmoid(self,z):\n",
    "        \"\"\" Compute Sigmoid Activation Function\"\"\"\n",
    "        sig = 1/(1 + np.exp(-z))\n",
    "        return(sig)\n",
    "    \n",
    "    def sigmoid_prime(z):\n",
    "        \"\"\" Compute Derivative of Sigmoid Activation Function\"\"\"\n",
    "        f_prime = np.exp(-z) / (1+np.exp(-z))**2\n",
    "        return(f_prime)\n",
    "    \n",
    "    def cost_function_prime(self,X,y):\n",
    "        #Compute derivative with respect to W and W2 for a given X and y:\n",
    "        self.yhat = self.forward(X)\n",
    "        \n",
    "        delta3 = np.multiply(-(y-self.yhat),self.sigmoidPrime(self.z3))\n",
    "        dJdW2 = np.dot(self.a2.T,delta3)"
   ]
  }
 ],
 "metadata": {
  "anaconda-cloud": {},
  "kernelspec": {
   "display_name": "Python [conda env:ML]",
   "language": "python",
   "name": "conda-env-ML-py"
  },
  "language_info": {
   "codemirror_mode": {
    "name": "ipython",
    "version": 3
   },
   "file_extension": ".py",
   "mimetype": "text/x-python",
   "name": "python",
   "nbconvert_exporter": "python",
   "pygments_lexer": "ipython3",
   "version": "3.6.0"
  }
 },
 "nbformat": 4,
 "nbformat_minor": 1
}
